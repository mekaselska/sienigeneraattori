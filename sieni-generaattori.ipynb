{
 "cells": [
  {
   "cell_type": "markdown",
   "metadata": {},
   "source": [
    "### Import libraries"
   ]
  },
  {
   "cell_type": "code",
   "execution_count": 838,
   "metadata": {},
   "outputs": [],
   "source": [
    "import numpy as np\n",
    "import tensorflow as tf\n",
    "import pandas as pd\n",
    "import re"
   ]
  },
  {
   "cell_type": "markdown",
   "metadata": {},
   "source": [
    "### Import data"
   ]
  },
  {
   "cell_type": "code",
   "execution_count": 839,
   "metadata": {},
   "outputs": [],
   "source": [
    "raw_name_data1 = pd.read_csv('sienet-jakalat.tsv', sep='\\t')"
   ]
  },
  {
   "cell_type": "code",
   "execution_count": 840,
   "metadata": {},
   "outputs": [],
   "source": [
    "raw_name_data2 = pd.read_csv('hyont-hamahakit.tsv', sep='\\t')"
   ]
  },
  {
   "cell_type": "code",
   "execution_count": 841,
   "metadata": {},
   "outputs": [],
   "source": [
    "raw_name_data3 = pd.read_csv('sammalet.tsv', sep='\\t')"
   ]
  },
  {
   "cell_type": "code",
   "execution_count": 964,
   "metadata": {},
   "outputs": [],
   "source": [
    "raw_name_data4 = pd.read_csv('muut-org.tsv', sep='\\t')"
   ]
  },
  {
   "cell_type": "code",
   "execution_count": 965,
   "metadata": {},
   "outputs": [],
   "source": [
    "df1 = raw_name_data1.copy()\n",
    "df2 = raw_name_data2.copy()\n",
    "df3 = raw_name_data3.copy()\n",
    "df4 = raw_name_data4.copy()"
   ]
  },
  {
   "cell_type": "code",
   "execution_count": 966,
   "metadata": {},
   "outputs": [
    {
     "data": {
      "text/html": [
       "<div>\n",
       "<style scoped>\n",
       "    .dataframe tbody tr th:only-of-type {\n",
       "        vertical-align: middle;\n",
       "    }\n",
       "\n",
       "    .dataframe tbody tr th {\n",
       "        vertical-align: top;\n",
       "    }\n",
       "\n",
       "    .dataframe thead th {\n",
       "        text-align: right;\n",
       "    }\n",
       "</style>\n",
       "<table border=\"1\" class=\"dataframe\">\n",
       "  <thead>\n",
       "    <tr style=\"text-align: right;\">\n",
       "      <th></th>\n",
       "      <th>Suositeltu yleiskielinen nimi</th>\n",
       "    </tr>\n",
       "  </thead>\n",
       "  <tbody>\n",
       "    <tr>\n",
       "      <th>0</th>\n",
       "      <td>ryväspiilojäkälä</td>\n",
       "    </tr>\n",
       "    <tr>\n",
       "      <th>1</th>\n",
       "      <td>höynäpiilojäkälä</td>\n",
       "    </tr>\n",
       "    <tr>\n",
       "      <th>2</th>\n",
       "      <td>sädepiilojäkälä</td>\n",
       "    </tr>\n",
       "    <tr>\n",
       "      <th>3</th>\n",
       "      <td>taigapiilojäkälä</td>\n",
       "    </tr>\n",
       "    <tr>\n",
       "      <th>4</th>\n",
       "      <td>härmäpiilojäkälä</td>\n",
       "    </tr>\n",
       "    <tr>\n",
       "      <th>...</th>\n",
       "      <td>...</td>\n",
       "    </tr>\n",
       "    <tr>\n",
       "      <th>5498</th>\n",
       "      <td>käenrieskannoki</td>\n",
       "    </tr>\n",
       "    <tr>\n",
       "      <th>5499</th>\n",
       "      <td>rantavihvilänjuurio</td>\n",
       "    </tr>\n",
       "    <tr>\n",
       "      <th>5500</th>\n",
       "      <td>konnanvihvilänjuurio</td>\n",
       "    </tr>\n",
       "    <tr>\n",
       "      <th>5501</th>\n",
       "      <td>hiiponhome</td>\n",
       "    </tr>\n",
       "    <tr>\n",
       "      <th>5502</th>\n",
       "      <td>stormögel (sv)</td>\n",
       "    </tr>\n",
       "  </tbody>\n",
       "</table>\n",
       "<p>5503 rows × 1 columns</p>\n",
       "</div>"
      ],
      "text/plain": [
       "     Suositeltu yleiskielinen nimi\n",
       "0                 ryväspiilojäkälä\n",
       "1                 höynäpiilojäkälä\n",
       "2                  sädepiilojäkälä\n",
       "3                 taigapiilojäkälä\n",
       "4                 härmäpiilojäkälä\n",
       "...                            ...\n",
       "5498               käenrieskannoki\n",
       "5499           rantavihvilänjuurio\n",
       "5500          konnanvihvilänjuurio\n",
       "5501                    hiiponhome\n",
       "5502                stormögel (sv)\n",
       "\n",
       "[5503 rows x 1 columns]"
      ]
     },
     "execution_count": 966,
     "metadata": {},
     "output_type": "execute_result"
    }
   ],
   "source": [
    "df1"
   ]
  },
  {
   "cell_type": "code",
   "execution_count": 967,
   "metadata": {},
   "outputs": [
    {
     "data": {
      "text/html": [
       "<div>\n",
       "<style scoped>\n",
       "    .dataframe tbody tr th:only-of-type {\n",
       "        vertical-align: middle;\n",
       "    }\n",
       "\n",
       "    .dataframe tbody tr th {\n",
       "        vertical-align: top;\n",
       "    }\n",
       "\n",
       "    .dataframe thead th {\n",
       "        text-align: right;\n",
       "    }\n",
       "</style>\n",
       "<table border=\"1\" class=\"dataframe\">\n",
       "  <thead>\n",
       "    <tr style=\"text-align: right;\">\n",
       "      <th></th>\n",
       "      <th>Suositeltu yleiskielinen nimi</th>\n",
       "    </tr>\n",
       "  </thead>\n",
       "  <tbody>\n",
       "    <tr>\n",
       "      <th>0</th>\n",
       "      <td>kivikkosiimahäntä</td>\n",
       "    </tr>\n",
       "    <tr>\n",
       "      <th>1</th>\n",
       "      <td>rantasiimahäntä</td>\n",
       "    </tr>\n",
       "    <tr>\n",
       "      <th>2</th>\n",
       "      <td>sokeritoukka</td>\n",
       "    </tr>\n",
       "    <tr>\n",
       "      <th>3</th>\n",
       "      <td>uunitoukka</td>\n",
       "    </tr>\n",
       "    <tr>\n",
       "      <th>4</th>\n",
       "      <td>paanutoukka</td>\n",
       "    </tr>\n",
       "    <tr>\n",
       "      <th>...</th>\n",
       "      <td>...</td>\n",
       "    </tr>\n",
       "    <tr>\n",
       "      <th>7845</th>\n",
       "      <td>saaristovaleskorpioni</td>\n",
       "    </tr>\n",
       "    <tr>\n",
       "      <th>7846</th>\n",
       "      <td>ansarivaleskorpioni</td>\n",
       "    </tr>\n",
       "    <tr>\n",
       "      <th>7847</th>\n",
       "      <td>rahkavaleskorpioni</td>\n",
       "    </tr>\n",
       "    <tr>\n",
       "      <th>7848</th>\n",
       "      <td>kivikkovaleskorpioni</td>\n",
       "    </tr>\n",
       "    <tr>\n",
       "      <th>7849</th>\n",
       "      <td>sammalvaleskorpioni</td>\n",
       "    </tr>\n",
       "  </tbody>\n",
       "</table>\n",
       "<p>7850 rows × 1 columns</p>\n",
       "</div>"
      ],
      "text/plain": [
       "     Suositeltu yleiskielinen nimi\n",
       "0                kivikkosiimahäntä\n",
       "1                  rantasiimahäntä\n",
       "2                     sokeritoukka\n",
       "3                       uunitoukka\n",
       "4                      paanutoukka\n",
       "...                            ...\n",
       "7845         saaristovaleskorpioni\n",
       "7846           ansarivaleskorpioni\n",
       "7847            rahkavaleskorpioni\n",
       "7848          kivikkovaleskorpioni\n",
       "7849           sammalvaleskorpioni\n",
       "\n",
       "[7850 rows x 1 columns]"
      ]
     },
     "execution_count": 967,
     "metadata": {},
     "output_type": "execute_result"
    }
   ],
   "source": [
    "df2"
   ]
  },
  {
   "cell_type": "code",
   "execution_count": 968,
   "metadata": {},
   "outputs": [
    {
     "data": {
      "text/html": [
       "<div>\n",
       "<style scoped>\n",
       "    .dataframe tbody tr th:only-of-type {\n",
       "        vertical-align: middle;\n",
       "    }\n",
       "\n",
       "    .dataframe tbody tr th {\n",
       "        vertical-align: top;\n",
       "    }\n",
       "\n",
       "    .dataframe thead th {\n",
       "        text-align: right;\n",
       "    }\n",
       "</style>\n",
       "<table border=\"1\" class=\"dataframe\">\n",
       "  <thead>\n",
       "    <tr style=\"text-align: right;\">\n",
       "      <th></th>\n",
       "      <th>Suositeltu yleiskielinen nimi</th>\n",
       "    </tr>\n",
       "  </thead>\n",
       "  <tbody>\n",
       "    <tr>\n",
       "      <th>0</th>\n",
       "      <td>lapinkarstasammal</td>\n",
       "    </tr>\n",
       "    <tr>\n",
       "      <th>1</th>\n",
       "      <td>pohjankarstasammal</td>\n",
       "    </tr>\n",
       "    <tr>\n",
       "      <th>2</th>\n",
       "      <td>tunturikarstasammal</td>\n",
       "    </tr>\n",
       "    <tr>\n",
       "      <th>3</th>\n",
       "      <td>suonikarstasammal</td>\n",
       "    </tr>\n",
       "    <tr>\n",
       "      <th>4</th>\n",
       "      <td>lumikarstasammal</td>\n",
       "    </tr>\n",
       "    <tr>\n",
       "      <th>...</th>\n",
       "      <td>...</td>\n",
       "    </tr>\n",
       "    <tr>\n",
       "      <th>691</th>\n",
       "      <td>kiirunansammal</td>\n",
       "    </tr>\n",
       "    <tr>\n",
       "      <th>692</th>\n",
       "      <td>lännenloukkosammal</td>\n",
       "    </tr>\n",
       "    <tr>\n",
       "      <th>693</th>\n",
       "      <td>metsäloukkosammal</td>\n",
       "    </tr>\n",
       "    <tr>\n",
       "      <th>694</th>\n",
       "      <td>tunturiloukkosammal</td>\n",
       "    </tr>\n",
       "    <tr>\n",
       "      <th>695</th>\n",
       "      <td>lahosammal</td>\n",
       "    </tr>\n",
       "  </tbody>\n",
       "</table>\n",
       "<p>696 rows × 1 columns</p>\n",
       "</div>"
      ],
      "text/plain": [
       "    Suositeltu yleiskielinen nimi\n",
       "0               lapinkarstasammal\n",
       "1              pohjankarstasammal\n",
       "2             tunturikarstasammal\n",
       "3               suonikarstasammal\n",
       "4                lumikarstasammal\n",
       "..                            ...\n",
       "691                kiirunansammal\n",
       "692            lännenloukkosammal\n",
       "693             metsäloukkosammal\n",
       "694           tunturiloukkosammal\n",
       "695                    lahosammal\n",
       "\n",
       "[696 rows x 1 columns]"
      ]
     },
     "execution_count": 968,
     "metadata": {},
     "output_type": "execute_result"
    }
   ],
   "source": [
    "df3"
   ]
  },
  {
   "cell_type": "code",
   "execution_count": 969,
   "metadata": {},
   "outputs": [
    {
     "data": {
      "text/html": [
       "<div>\n",
       "<style scoped>\n",
       "    .dataframe tbody tr th:only-of-type {\n",
       "        vertical-align: middle;\n",
       "    }\n",
       "\n",
       "    .dataframe tbody tr th {\n",
       "        vertical-align: top;\n",
       "    }\n",
       "\n",
       "    .dataframe thead th {\n",
       "        text-align: right;\n",
       "    }\n",
       "</style>\n",
       "<table border=\"1\" class=\"dataframe\">\n",
       "  <thead>\n",
       "    <tr style=\"text-align: right;\">\n",
       "      <th></th>\n",
       "      <th>Suositeltu yleiskielinen nimi</th>\n",
       "    </tr>\n",
       "  </thead>\n",
       "  <tbody>\n",
       "    <tr>\n",
       "      <th>0</th>\n",
       "      <td>lumihyppiäinen</td>\n",
       "    </tr>\n",
       "    <tr>\n",
       "      <th>1</th>\n",
       "      <td>laumahyppiäinen</td>\n",
       "    </tr>\n",
       "    <tr>\n",
       "      <th>2</th>\n",
       "      <td>pyrstökäs</td>\n",
       "    </tr>\n",
       "    <tr>\n",
       "      <th>3</th>\n",
       "      <td>levärupi</td>\n",
       "    </tr>\n",
       "    <tr>\n",
       "      <th>4</th>\n",
       "      <td>sormisammaleläin</td>\n",
       "    </tr>\n",
       "    <tr>\n",
       "      <th>...</th>\n",
       "      <td>...</td>\n",
       "    </tr>\n",
       "    <tr>\n",
       "      <th>232</th>\n",
       "      <td>nukkanen</td>\n",
       "    </tr>\n",
       "    <tr>\n",
       "      <th>233</th>\n",
       "      <td>bacterial soft rot of potato (en)</td>\n",
       "    </tr>\n",
       "    <tr>\n",
       "      <th>234</th>\n",
       "      <td>bacterial stunt of carnation (en)</td>\n",
       "    </tr>\n",
       "    <tr>\n",
       "      <th>235</th>\n",
       "      <td>kauran kehälaikku</td>\n",
       "    </tr>\n",
       "    <tr>\n",
       "      <th>236</th>\n",
       "      <td>bakteerilakaste</td>\n",
       "    </tr>\n",
       "  </tbody>\n",
       "</table>\n",
       "<p>237 rows × 1 columns</p>\n",
       "</div>"
      ],
      "text/plain": [
       "         Suositeltu yleiskielinen nimi\n",
       "0                       lumihyppiäinen\n",
       "1                      laumahyppiäinen\n",
       "2                            pyrstökäs\n",
       "3                             levärupi\n",
       "4                     sormisammaleläin\n",
       "..                                 ...\n",
       "232                           nukkanen\n",
       "233  bacterial soft rot of potato (en)\n",
       "234  bacterial stunt of carnation (en)\n",
       "235                  kauran kehälaikku\n",
       "236                    bakteerilakaste\n",
       "\n",
       "[237 rows x 1 columns]"
      ]
     },
     "execution_count": 969,
     "metadata": {},
     "output_type": "execute_result"
    }
   ],
   "source": [
    "df4"
   ]
  },
  {
   "cell_type": "code",
   "execution_count": 970,
   "metadata": {},
   "outputs": [
    {
     "data": {
      "text/html": [
       "<div>\n",
       "<style scoped>\n",
       "    .dataframe tbody tr th:only-of-type {\n",
       "        vertical-align: middle;\n",
       "    }\n",
       "\n",
       "    .dataframe tbody tr th {\n",
       "        vertical-align: top;\n",
       "    }\n",
       "\n",
       "    .dataframe thead th {\n",
       "        text-align: right;\n",
       "    }\n",
       "</style>\n",
       "<table border=\"1\" class=\"dataframe\">\n",
       "  <thead>\n",
       "    <tr style=\"text-align: right;\">\n",
       "      <th></th>\n",
       "      <th>Suositeltu yleiskielinen nimi</th>\n",
       "    </tr>\n",
       "  </thead>\n",
       "  <tbody>\n",
       "    <tr>\n",
       "      <th>0</th>\n",
       "      <td>ryväspiilojäkälä</td>\n",
       "    </tr>\n",
       "    <tr>\n",
       "      <th>1</th>\n",
       "      <td>höynäpiilojäkälä</td>\n",
       "    </tr>\n",
       "    <tr>\n",
       "      <th>2</th>\n",
       "      <td>sädepiilojäkälä</td>\n",
       "    </tr>\n",
       "    <tr>\n",
       "      <th>3</th>\n",
       "      <td>taigapiilojäkälä</td>\n",
       "    </tr>\n",
       "    <tr>\n",
       "      <th>4</th>\n",
       "      <td>härmäpiilojäkälä</td>\n",
       "    </tr>\n",
       "    <tr>\n",
       "      <th>...</th>\n",
       "      <td>...</td>\n",
       "    </tr>\n",
       "    <tr>\n",
       "      <th>14281</th>\n",
       "      <td>nukkanen</td>\n",
       "    </tr>\n",
       "    <tr>\n",
       "      <th>14282</th>\n",
       "      <td>bacterial soft rot of potato (en)</td>\n",
       "    </tr>\n",
       "    <tr>\n",
       "      <th>14283</th>\n",
       "      <td>bacterial stunt of carnation (en)</td>\n",
       "    </tr>\n",
       "    <tr>\n",
       "      <th>14284</th>\n",
       "      <td>kauran kehälaikku</td>\n",
       "    </tr>\n",
       "    <tr>\n",
       "      <th>14285</th>\n",
       "      <td>bakteerilakaste</td>\n",
       "    </tr>\n",
       "  </tbody>\n",
       "</table>\n",
       "<p>14286 rows × 1 columns</p>\n",
       "</div>"
      ],
      "text/plain": [
       "           Suositeltu yleiskielinen nimi\n",
       "0                       ryväspiilojäkälä\n",
       "1                       höynäpiilojäkälä\n",
       "2                        sädepiilojäkälä\n",
       "3                       taigapiilojäkälä\n",
       "4                       härmäpiilojäkälä\n",
       "...                                  ...\n",
       "14281                           nukkanen\n",
       "14282  bacterial soft rot of potato (en)\n",
       "14283  bacterial stunt of carnation (en)\n",
       "14284                  kauran kehälaikku\n",
       "14285                    bakteerilakaste\n",
       "\n",
       "[14286 rows x 1 columns]"
      ]
     },
     "execution_count": 970,
     "metadata": {},
     "output_type": "execute_result"
    }
   ],
   "source": [
    "df_name = df1.append(df2, ignore_index=True)\n",
    "df_name = df_name.append(df3, ignore_index=True)\n",
    "df_name = df_name.append(df4, ignore_index=True)\n",
    "df_name"
   ]
  },
  {
   "cell_type": "markdown",
   "metadata": {},
   "source": [
    "### Clean up data"
   ]
  },
  {
   "cell_type": "code",
   "execution_count": 971,
   "metadata": {},
   "outputs": [],
   "source": [
    "df_name.dropna(subset = [\"Suositeltu yleiskielinen nimi\"], inplace=True)"
   ]
  },
  {
   "cell_type": "code",
   "execution_count": 972,
   "metadata": {
    "scrolled": true
   },
   "outputs": [
    {
     "data": {
      "text/plain": [
       "Int64Index([   20,    30,    46,    55,    60,    86,    87,   100,   101,\n",
       "              108,\n",
       "            ...\n",
       "            13207, 13208, 13209, 13210, 13211, 13212, 13213, 13214, 13319,\n",
       "            13823],\n",
       "           dtype='int64', length=390)"
      ]
     },
     "execution_count": 972,
     "metadata": {},
     "output_type": "execute_result"
    }
   ],
   "source": [
    "# df[df['A'].apply(lambda x: x in given)]\n",
    "indexSwedishNames = df_name[ df_name['Suositeltu yleiskielinen nimi'].apply(lambda x: '(sv)' in x) ].index\n",
    "indexSwedishNames"
   ]
  },
  {
   "cell_type": "code",
   "execution_count": 973,
   "metadata": {},
   "outputs": [],
   "source": [
    "df_name.drop(indexSwedishNames , inplace=True)"
   ]
  },
  {
   "cell_type": "code",
   "execution_count": 974,
   "metadata": {},
   "outputs": [
    {
     "data": {
      "text/plain": [
       "Int64Index([ 1979,  2057,  5244,  5684,  5692,  5698,  5710,  5714,  5716,\n",
       "             5717,  5720,  5724,  5729,  5730,  5731,  5732,  5758,  6535,\n",
       "             8185,  8209, 12688, 12702, 13219, 14059, 14282, 14283],\n",
       "           dtype='int64')"
      ]
     },
     "execution_count": 974,
     "metadata": {},
     "output_type": "execute_result"
    }
   ],
   "source": [
    "indexEnglishNames = df_name[ df_name['Suositeltu yleiskielinen nimi'].apply(lambda x: '(en)' in x) ].index\n",
    "indexEnglishNames"
   ]
  },
  {
   "cell_type": "code",
   "execution_count": 975,
   "metadata": {},
   "outputs": [],
   "source": [
    "df_name.drop(indexEnglishNames , inplace=True)"
   ]
  },
  {
   "cell_type": "code",
   "execution_count": 976,
   "metadata": {},
   "outputs": [
    {
     "data": {
      "text/plain": [
       "Int64Index([   85,  1837,  1838,  1870,  1959,  1960,  1961,  2004,  5699,\n",
       "             6765,  7257,  7361,  7695,  7701,  7973,  7978,  8471, 11090,\n",
       "            11096, 11126, 11811, 11891, 12189, 12218, 12240, 12241, 12243,\n",
       "            12251, 12682, 12759, 13138],\n",
       "           dtype='int64')"
      ]
     },
     "execution_count": 976,
     "metadata": {},
     "output_type": "execute_result"
    }
   ],
   "source": [
    "indexWeirdNames = df_name[ df_name['Suositeltu yleiskielinen nimi'].apply(lambda x: ('c' in x) or ('f' in x) )].index\n",
    "indexWeirdNames"
   ]
  },
  {
   "cell_type": "code",
   "execution_count": 977,
   "metadata": {},
   "outputs": [
    {
     "data": {
      "text/html": [
       "<div>\n",
       "<style scoped>\n",
       "    .dataframe tbody tr th:only-of-type {\n",
       "        vertical-align: middle;\n",
       "    }\n",
       "\n",
       "    .dataframe tbody tr th {\n",
       "        vertical-align: top;\n",
       "    }\n",
       "\n",
       "    .dataframe thead th {\n",
       "        text-align: right;\n",
       "    }\n",
       "</style>\n",
       "<table border=\"1\" class=\"dataframe\">\n",
       "  <thead>\n",
       "    <tr style=\"text-align: right;\">\n",
       "      <th></th>\n",
       "      <th>Suositeltu yleiskielinen nimi</th>\n",
       "    </tr>\n",
       "  </thead>\n",
       "  <tbody>\n",
       "    <tr>\n",
       "      <th>85</th>\n",
       "      <td>perunan cercospora-lehtilaikku</td>\n",
       "    </tr>\n",
       "    <tr>\n",
       "      <th>1837</th>\n",
       "      <td>poimutryffeli</td>\n",
       "    </tr>\n",
       "    <tr>\n",
       "      <th>1838</th>\n",
       "      <td>kuplatryffeli</td>\n",
       "    </tr>\n",
       "    <tr>\n",
       "      <th>1870</th>\n",
       "      <td>aivotryffeli</td>\n",
       "    </tr>\n",
       "    <tr>\n",
       "      <th>1959</th>\n",
       "      <td>ruskotryffeli</td>\n",
       "    </tr>\n",
       "    <tr>\n",
       "      <th>1960</th>\n",
       "      <td>pohjantryffeli</td>\n",
       "    </tr>\n",
       "    <tr>\n",
       "      <th>1961</th>\n",
       "      <td>löyhkätryffeli</td>\n",
       "    </tr>\n",
       "    <tr>\n",
       "      <th>2004</th>\n",
       "      <td>tähkäfusarioosi</td>\n",
       "    </tr>\n",
       "    <tr>\n",
       "      <th>5699</th>\n",
       "      <td>kalifornianripsiäinen</td>\n",
       "    </tr>\n",
       "    <tr>\n",
       "      <th>6765</th>\n",
       "      <td>faaraomuurahainen</td>\n",
       "    </tr>\n",
       "    <tr>\n",
       "      <th>7257</th>\n",
       "      <td>harjupisarsukeltaja (alalaji cristatus)</td>\n",
       "    </tr>\n",
       "    <tr>\n",
       "      <th>7361</th>\n",
       "      <td>sinikiitäjäinen (alalaji violaceus)</td>\n",
       "    </tr>\n",
       "    <tr>\n",
       "      <th>7695</th>\n",
       "      <td>muurahaisrääpikäs (alalaji lapponicus)</td>\n",
       "    </tr>\n",
       "    <tr>\n",
       "      <th>7701</th>\n",
       "      <td>tunturirääpikäs (alalaji colletti)</td>\n",
       "    </tr>\n",
       "    <tr>\n",
       "      <th>7973</th>\n",
       "      <td>sarvikuonokas (alalaji nasicornis)</td>\n",
       "    </tr>\n",
       "    <tr>\n",
       "      <th>7978</th>\n",
       "      <td>kuparikuoriainen (alalaji metallica)</td>\n",
       "    </tr>\n",
       "    <tr>\n",
       "      <th>8471</th>\n",
       "      <td>kaksipistepirkko (alalaji bipunctata)</td>\n",
       "    </tr>\n",
       "    <tr>\n",
       "      <th>11090</th>\n",
       "      <td>ratamoverkkoperhonen (alalaji norvegica)</td>\n",
       "    </tr>\n",
       "    <tr>\n",
       "      <th>11096</th>\n",
       "      <td>täpläpapurikko (alalaji tircis)</td>\n",
       "    </tr>\n",
       "    <tr>\n",
       "      <th>11126</th>\n",
       "      <td>harjusinisiipi (alalaji schiffermuelleri)</td>\n",
       "    </tr>\n",
       "    <tr>\n",
       "      <th>11811</th>\n",
       "      <td>rakkasiilikäs (alalaji fridolini)</td>\n",
       "    </tr>\n",
       "    <tr>\n",
       "      <th>11891</th>\n",
       "      <td>pikkutinayökkönen (alalaji gracilis)</td>\n",
       "    </tr>\n",
       "    <tr>\n",
       "      <th>12189</th>\n",
       "      <td>isohietayökkönen (alalaji rossica)</td>\n",
       "    </tr>\n",
       "    <tr>\n",
       "      <th>12218</th>\n",
       "      <td>keilamaayökkönen (alalaji exclamans)</td>\n",
       "    </tr>\n",
       "    <tr>\n",
       "      <th>12240</th>\n",
       "      <td>kirjoharmoyökkönen (alalaji baltica)</td>\n",
       "    </tr>\n",
       "    <tr>\n",
       "      <th>12241</th>\n",
       "      <td>kirjoharmoyökkönen (alalaji arctica)</td>\n",
       "    </tr>\n",
       "    <tr>\n",
       "      <th>12243</th>\n",
       "      <td>nuoliharmoyökkönen (alalaji fennica)</td>\n",
       "    </tr>\n",
       "    <tr>\n",
       "      <th>12251</th>\n",
       "      <td>puneharmoyökkönen (alalaji alpicola)</td>\n",
       "    </tr>\n",
       "    <tr>\n",
       "      <th>12682</th>\n",
       "      <td>freynasekärpänen</td>\n",
       "    </tr>\n",
       "    <tr>\n",
       "      <th>12759</th>\n",
       "      <td>freynpäpsiäinen</td>\n",
       "    </tr>\n",
       "    <tr>\n",
       "      <th>13138</th>\n",
       "      <td>floridankärpänen</td>\n",
       "    </tr>\n",
       "  </tbody>\n",
       "</table>\n",
       "</div>"
      ],
      "text/plain": [
       "                   Suositeltu yleiskielinen nimi\n",
       "85                perunan cercospora-lehtilaikku\n",
       "1837                               poimutryffeli\n",
       "1838                               kuplatryffeli\n",
       "1870                                aivotryffeli\n",
       "1959                               ruskotryffeli\n",
       "1960                              pohjantryffeli\n",
       "1961                              löyhkätryffeli\n",
       "2004                             tähkäfusarioosi\n",
       "5699                       kalifornianripsiäinen\n",
       "6765                           faaraomuurahainen\n",
       "7257     harjupisarsukeltaja (alalaji cristatus)\n",
       "7361         sinikiitäjäinen (alalaji violaceus)\n",
       "7695      muurahaisrääpikäs (alalaji lapponicus)\n",
       "7701          tunturirääpikäs (alalaji colletti)\n",
       "7973          sarvikuonokas (alalaji nasicornis)\n",
       "7978        kuparikuoriainen (alalaji metallica)\n",
       "8471       kaksipistepirkko (alalaji bipunctata)\n",
       "11090   ratamoverkkoperhonen (alalaji norvegica)\n",
       "11096            täpläpapurikko (alalaji tircis)\n",
       "11126  harjusinisiipi (alalaji schiffermuelleri)\n",
       "11811          rakkasiilikäs (alalaji fridolini)\n",
       "11891       pikkutinayökkönen (alalaji gracilis)\n",
       "12189         isohietayökkönen (alalaji rossica)\n",
       "12218       keilamaayökkönen (alalaji exclamans)\n",
       "12240       kirjoharmoyökkönen (alalaji baltica)\n",
       "12241       kirjoharmoyökkönen (alalaji arctica)\n",
       "12243       nuoliharmoyökkönen (alalaji fennica)\n",
       "12251       puneharmoyökkönen (alalaji alpicola)\n",
       "12682                           freynasekärpänen\n",
       "12759                            freynpäpsiäinen\n",
       "13138                           floridankärpänen"
      ]
     },
     "execution_count": 977,
     "metadata": {},
     "output_type": "execute_result"
    }
   ],
   "source": [
    "rowData = df_name.loc[ indexWeirdNames , : ]\n",
    "rowData"
   ]
  },
  {
   "cell_type": "code",
   "execution_count": 978,
   "metadata": {},
   "outputs": [],
   "source": [
    "df_name.drop(indexWeirdNames , inplace=True)"
   ]
  },
  {
   "cell_type": "code",
   "execution_count": 979,
   "metadata": {},
   "outputs": [
    {
     "data": {
      "text/html": [
       "<div>\n",
       "<style scoped>\n",
       "    .dataframe tbody tr th:only-of-type {\n",
       "        vertical-align: middle;\n",
       "    }\n",
       "\n",
       "    .dataframe tbody tr th {\n",
       "        vertical-align: top;\n",
       "    }\n",
       "\n",
       "    .dataframe thead th {\n",
       "        text-align: right;\n",
       "    }\n",
       "</style>\n",
       "<table border=\"1\" class=\"dataframe\">\n",
       "  <thead>\n",
       "    <tr style=\"text-align: right;\">\n",
       "      <th></th>\n",
       "      <th>Suositeltu yleiskielinen nimi</th>\n",
       "    </tr>\n",
       "  </thead>\n",
       "  <tbody>\n",
       "    <tr>\n",
       "      <th>0</th>\n",
       "      <td>ryväspiilojäkälä</td>\n",
       "    </tr>\n",
       "    <tr>\n",
       "      <th>1</th>\n",
       "      <td>höynäpiilojäkälä</td>\n",
       "    </tr>\n",
       "    <tr>\n",
       "      <th>2</th>\n",
       "      <td>sädepiilojäkälä</td>\n",
       "    </tr>\n",
       "    <tr>\n",
       "      <th>3</th>\n",
       "      <td>taigapiilojäkälä</td>\n",
       "    </tr>\n",
       "    <tr>\n",
       "      <th>4</th>\n",
       "      <td>härmäpiilojäkälä</td>\n",
       "    </tr>\n",
       "    <tr>\n",
       "      <th>...</th>\n",
       "      <td>...</td>\n",
       "    </tr>\n",
       "    <tr>\n",
       "      <th>14279</th>\n",
       "      <td>karttunuoranen</td>\n",
       "    </tr>\n",
       "    <tr>\n",
       "      <th>14280</th>\n",
       "      <td>tuplanuoranen</td>\n",
       "    </tr>\n",
       "    <tr>\n",
       "      <th>14281</th>\n",
       "      <td>nukkanen</td>\n",
       "    </tr>\n",
       "    <tr>\n",
       "      <th>14284</th>\n",
       "      <td>kauran kehälaikku</td>\n",
       "    </tr>\n",
       "    <tr>\n",
       "      <th>14285</th>\n",
       "      <td>bakteerilakaste</td>\n",
       "    </tr>\n",
       "  </tbody>\n",
       "</table>\n",
       "<p>13839 rows × 1 columns</p>\n",
       "</div>"
      ],
      "text/plain": [
       "      Suositeltu yleiskielinen nimi\n",
       "0                  ryväspiilojäkälä\n",
       "1                  höynäpiilojäkälä\n",
       "2                   sädepiilojäkälä\n",
       "3                  taigapiilojäkälä\n",
       "4                  härmäpiilojäkälä\n",
       "...                             ...\n",
       "14279                karttunuoranen\n",
       "14280                 tuplanuoranen\n",
       "14281                      nukkanen\n",
       "14284             kauran kehälaikku\n",
       "14285               bakteerilakaste\n",
       "\n",
       "[13839 rows x 1 columns]"
      ]
     },
     "execution_count": 979,
     "metadata": {},
     "output_type": "execute_result"
    }
   ],
   "source": [
    "df_name"
   ]
  },
  {
   "cell_type": "code",
   "execution_count": 980,
   "metadata": {},
   "outputs": [
    {
     "data": {
      "text/html": [
       "<div>\n",
       "<style scoped>\n",
       "    .dataframe tbody tr th:only-of-type {\n",
       "        vertical-align: middle;\n",
       "    }\n",
       "\n",
       "    .dataframe tbody tr th {\n",
       "        vertical-align: top;\n",
       "    }\n",
       "\n",
       "    .dataframe thead th {\n",
       "        text-align: right;\n",
       "    }\n",
       "</style>\n",
       "<table border=\"1\" class=\"dataframe\">\n",
       "  <thead>\n",
       "    <tr style=\"text-align: right;\">\n",
       "      <th></th>\n",
       "      <th>Suositeltu yleiskielinen nimi</th>\n",
       "    </tr>\n",
       "  </thead>\n",
       "  <tbody>\n",
       "    <tr>\n",
       "      <th>count</th>\n",
       "      <td>13839</td>\n",
       "    </tr>\n",
       "    <tr>\n",
       "      <th>unique</th>\n",
       "      <td>13837</td>\n",
       "    </tr>\n",
       "    <tr>\n",
       "      <th>top</th>\n",
       "      <td>pikkusiipisammal</td>\n",
       "    </tr>\n",
       "    <tr>\n",
       "      <th>freq</th>\n",
       "      <td>2</td>\n",
       "    </tr>\n",
       "  </tbody>\n",
       "</table>\n",
       "</div>"
      ],
      "text/plain": [
       "       Suositeltu yleiskielinen nimi\n",
       "count                          13839\n",
       "unique                         13837\n",
       "top                 pikkusiipisammal\n",
       "freq                               2"
      ]
     },
     "execution_count": 980,
     "metadata": {},
     "output_type": "execute_result"
    }
   ],
   "source": [
    "df_name.describe()"
   ]
  },
  {
   "cell_type": "code",
   "execution_count": 981,
   "metadata": {},
   "outputs": [
    {
     "data": {
      "text/plain": [
       "43"
      ]
     },
     "execution_count": 981,
     "metadata": {},
     "output_type": "execute_result"
    }
   ],
   "source": [
    "name_max_length = df_name['Suositeltu yleiskielinen nimi'].str.len().max()\n",
    "name_max_length"
   ]
  },
  {
   "cell_type": "code",
   "execution_count": 982,
   "metadata": {},
   "outputs": [
    {
     "data": {
      "text/plain": [
       "6"
      ]
     },
     "execution_count": 982,
     "metadata": {},
     "output_type": "execute_result"
    }
   ],
   "source": [
    "name_min_length = df_name['Suositeltu yleiskielinen nimi'].str.len().min()\n",
    "name_min_length"
   ]
  },
  {
   "cell_type": "markdown",
   "metadata": {},
   "source": [
    "### Sekoita datasetti"
   ]
  },
  {
   "cell_type": "code",
   "execution_count": 983,
   "metadata": {},
   "outputs": [],
   "source": [
    "df_name_shuffled = df_name.sample(frac=1)"
   ]
  },
  {
   "cell_type": "code",
   "execution_count": 984,
   "metadata": {},
   "outputs": [
    {
     "data": {
      "text/html": [
       "<div>\n",
       "<style scoped>\n",
       "    .dataframe tbody tr th:only-of-type {\n",
       "        vertical-align: middle;\n",
       "    }\n",
       "\n",
       "    .dataframe tbody tr th {\n",
       "        vertical-align: top;\n",
       "    }\n",
       "\n",
       "    .dataframe thead th {\n",
       "        text-align: right;\n",
       "    }\n",
       "</style>\n",
       "<table border=\"1\" class=\"dataframe\">\n",
       "  <thead>\n",
       "    <tr style=\"text-align: right;\">\n",
       "      <th></th>\n",
       "      <th>Suositeltu yleiskielinen nimi</th>\n",
       "    </tr>\n",
       "  </thead>\n",
       "  <tbody>\n",
       "    <tr>\n",
       "      <th>5450</th>\n",
       "      <td>tupasluikannoki</td>\n",
       "    </tr>\n",
       "    <tr>\n",
       "      <th>299</th>\n",
       "      <td>muhkumustuainen</td>\n",
       "    </tr>\n",
       "    <tr>\n",
       "      <th>11976</th>\n",
       "      <td>varjoyökkönen</td>\n",
       "    </tr>\n",
       "    <tr>\n",
       "      <th>6921</th>\n",
       "      <td>paahdehoikkahukka</td>\n",
       "    </tr>\n",
       "    <tr>\n",
       "      <th>7893</th>\n",
       "      <td>kuningaslyhytsiipi</td>\n",
       "    </tr>\n",
       "    <tr>\n",
       "      <th>...</th>\n",
       "      <td>...</td>\n",
       "    </tr>\n",
       "    <tr>\n",
       "      <th>4597</th>\n",
       "      <td>valkorihmakääpä</td>\n",
       "    </tr>\n",
       "    <tr>\n",
       "      <th>5666</th>\n",
       "      <td>kangassirkka</td>\n",
       "    </tr>\n",
       "    <tr>\n",
       "      <th>7772</th>\n",
       "      <td>helyhaaskavaajakas</td>\n",
       "    </tr>\n",
       "    <tr>\n",
       "      <th>6923</th>\n",
       "      <td>nilkkahohkahukka</td>\n",
       "    </tr>\n",
       "    <tr>\n",
       "      <th>7175</th>\n",
       "      <td>lapinkaislakorento</td>\n",
       "    </tr>\n",
       "  </tbody>\n",
       "</table>\n",
       "<p>13839 rows × 1 columns</p>\n",
       "</div>"
      ],
      "text/plain": [
       "      Suositeltu yleiskielinen nimi\n",
       "5450                tupasluikannoki\n",
       "299                 muhkumustuainen\n",
       "11976                 varjoyökkönen\n",
       "6921              paahdehoikkahukka\n",
       "7893             kuningaslyhytsiipi\n",
       "...                             ...\n",
       "4597                valkorihmakääpä\n",
       "5666                   kangassirkka\n",
       "7772             helyhaaskavaajakas\n",
       "6923               nilkkahohkahukka\n",
       "7175             lapinkaislakorento\n",
       "\n",
       "[13839 rows x 1 columns]"
      ]
     },
     "execution_count": 984,
     "metadata": {},
     "output_type": "execute_result"
    }
   ],
   "source": [
    "df_name_shuffled"
   ]
  },
  {
   "cell_type": "code",
   "execution_count": 985,
   "metadata": {},
   "outputs": [
    {
     "data": {
      "text/html": [
       "<div>\n",
       "<style scoped>\n",
       "    .dataframe tbody tr th:only-of-type {\n",
       "        vertical-align: middle;\n",
       "    }\n",
       "\n",
       "    .dataframe tbody tr th {\n",
       "        vertical-align: top;\n",
       "    }\n",
       "\n",
       "    .dataframe thead th {\n",
       "        text-align: right;\n",
       "    }\n",
       "</style>\n",
       "<table border=\"1\" class=\"dataframe\">\n",
       "  <thead>\n",
       "    <tr style=\"text-align: right;\">\n",
       "      <th></th>\n",
       "      <th>Suositeltu yleiskielinen nimi</th>\n",
       "    </tr>\n",
       "  </thead>\n",
       "  <tbody>\n",
       "    <tr>\n",
       "      <th>count</th>\n",
       "      <td>13839</td>\n",
       "    </tr>\n",
       "    <tr>\n",
       "      <th>unique</th>\n",
       "      <td>13837</td>\n",
       "    </tr>\n",
       "    <tr>\n",
       "      <th>top</th>\n",
       "      <td>lapintierasammal</td>\n",
       "    </tr>\n",
       "    <tr>\n",
       "      <th>freq</th>\n",
       "      <td>2</td>\n",
       "    </tr>\n",
       "  </tbody>\n",
       "</table>\n",
       "</div>"
      ],
      "text/plain": [
       "       Suositeltu yleiskielinen nimi\n",
       "count                          13839\n",
       "unique                         13837\n",
       "top                 lapintierasammal\n",
       "freq                               2"
      ]
     },
     "execution_count": 985,
     "metadata": {},
     "output_type": "execute_result"
    }
   ],
   "source": [
    "df_name_shuffled.describe()"
   ]
  },
  {
   "cell_type": "markdown",
   "metadata": {},
   "source": [
    "### Siivotaan nimiä"
   ]
  },
  {
   "cell_type": "code",
   "execution_count": 986,
   "metadata": {},
   "outputs": [],
   "source": [
    "# väliviivat pois\n",
    "\n",
    "clean_names_list_1 = [s.replace('-','') for s in df_name_shuffled['Suositeltu yleiskielinen nimi']]\n",
    "\n",
    "# välilyönnit pois\n",
    "\n",
    "clean_names_list_2 = [s.replace(' ','') for s in clean_names_list_1]\n",
    "\n",
    "# sulkujen väliset jutut pois\n",
    "\n",
    "clean_names_list_3 = [re.sub(r'\\([^)]*\\)', '', name) for name in clean_names_list_2]"
   ]
  },
  {
   "cell_type": "markdown",
   "metadata": {},
   "source": [
    "### Stringin räjäyttäminen"
   ]
  },
  {
   "cell_type": "code",
   "execution_count": 987,
   "metadata": {},
   "outputs": [],
   "source": [
    "# Extract K length substrings\n",
    "# Using list comprehension + string slicing\n",
    "\n",
    "def explodeStringToSubstrings(test_str, substr_length = 4):\n",
    "    return [test_str[i: j] for i in range(len(test_str)) for j in range(i + 1, len(test_str) + 1) if len(test_str[i:j]) == substr_length]\n",
    "\n",
    "def explodeStringToSimpleSubstrings(test_str, substr_length = 2):\n",
    "    return [test_str[i:i+substr_length] for i in range(0, len(test_str), substr_length)]"
   ]
  },
  {
   "cell_type": "code",
   "execution_count": 988,
   "metadata": {},
   "outputs": [],
   "source": [
    "exploded_names_list = list(map(explodeStringToSimpleSubstrings, clean_names_list_3))"
   ]
  },
  {
   "cell_type": "code",
   "execution_count": 989,
   "metadata": {},
   "outputs": [
    {
     "name": "stdout",
     "output_type": "stream",
     "text": [
      "13839\n"
     ]
    }
   ],
   "source": [
    "print(len(exploded_names_list))"
   ]
  },
  {
   "cell_type": "code",
   "execution_count": 990,
   "metadata": {},
   "outputs": [],
   "source": [
    "exploded_names_flat_list = [item for sublist in exploded_names_list for item in sublist]"
   ]
  },
  {
   "cell_type": "markdown",
   "metadata": {},
   "source": [
    "### Alkutavut talteen"
   ]
  },
  {
   "cell_type": "code",
   "execution_count": 991,
   "metadata": {},
   "outputs": [
    {
     "data": {
      "text/plain": [
       "13839"
      ]
     },
     "execution_count": 991,
     "metadata": {},
     "output_type": "execute_result"
    }
   ],
   "source": [
    "# newlist = [expression for item in iterable if condition == True]\n",
    "beginnings = [(name[0],name[1]) for name in exploded_names_list]\n",
    "len(beginnings)"
   ]
  },
  {
   "cell_type": "markdown",
   "metadata": {},
   "source": [
    "## Tää tiedoston kautta kierrättäminen ei ihan heti toiminut, list/array"
   ]
  },
  {
   "cell_type": "markdown",
   "metadata": {},
   "source": [
    "### save tokens to file, one dialog per line\n",
    "def save_doc(lines, filename):\n",
    "    data = '\\n'.join(lines)\n",
    "    file = open(filename, 'w')\n",
    "    file.write(data)\n",
    "    file.close()\n",
    "    \n",
    "### save sequences to file\n",
    "out_filename = 'species_sequences.txt'\n",
    "save_doc(exploded_names_flat_list, out_filename)"
   ]
  },
  {
   "cell_type": "markdown",
   "metadata": {},
   "source": [
    "### Pitkän tekstin jakaminen saman mittaisiin osiin"
   ]
  },
  {
   "cell_type": "markdown",
   "metadata": {},
   "source": [
    "length = 50 + 1\n",
    "sequences = list()\n",
    "for i in range(length, len(exploded_names_flat_list)):\n",
    "    # select sequence of tokens\n",
    "    seq = exploded_names_flat_list[i-length:i]\n",
    "    # convert into a line\n",
    "    line = ' '.join(seq)\n",
    "    # store\n",
    "    sequences.append(line)\n",
    "print('Total Sequences: %d' % len(sequences))"
   ]
  },
  {
   "cell_type": "markdown",
   "metadata": {},
   "source": [
    "### load doc into memory\n",
    "def load_doc(filename):\n",
    "    # open the file as read only\n",
    "    file = open(filename, 'r')\n",
    "    # read all text\n",
    "    text = file.read()\n",
    "    # close the file\n",
    "    file.close()\n",
    "    return text\n",
    " \n",
    "### load\n",
    "in_filename = 'species_sequences.txt'\n",
    "doc = load_doc(in_filename)\n",
    "lines = doc.split('\\n')"
   ]
  },
  {
   "cell_type": "markdown",
   "metadata": {},
   "source": [
    "### Pitkän listan jakaminen saman mittaisiin osalistoihin --> matriisi"
   ]
  },
  {
   "cell_type": "code",
   "execution_count": 992,
   "metadata": {},
   "outputs": [],
   "source": [
    "# [lst[i:i + n] for i in range(0, len(lst), n)]\n",
    "def splitInChunks(flat_list, length):\n",
    "    return [flat_list[i:i + length] for i in range(0, len(flat_list), length)]"
   ]
  },
  {
   "cell_type": "code",
   "execution_count": 993,
   "metadata": {},
   "outputs": [],
   "source": [
    "# 5 mittaisia listoja\n",
    "data_in_chunks = splitInChunks(exploded_names_flat_list, 5)"
   ]
  },
  {
   "cell_type": "code",
   "execution_count": 994,
   "metadata": {},
   "outputs": [
    {
     "data": {
      "text/plain": [
       "21883"
      ]
     },
     "execution_count": 994,
     "metadata": {},
     "output_type": "execute_result"
    }
   ],
   "source": [
    "len(data_in_chunks)"
   ]
  },
  {
   "cell_type": "markdown",
   "metadata": {},
   "source": [
    "### Jaetaan data train ja validate -osiin"
   ]
  },
  {
   "cell_type": "code",
   "execution_count": 995,
   "metadata": {},
   "outputs": [],
   "source": [
    "data_train = data_in_chunks[:20000]\n",
    "data_validate = data_in_chunks[20000:]"
   ]
  },
  {
   "cell_type": "markdown",
   "metadata": {},
   "source": [
    "### Integer encode sequences of words"
   ]
  },
  {
   "cell_type": "code",
   "execution_count": 996,
   "metadata": {},
   "outputs": [],
   "source": [
    "tokenizer = tf.keras.preprocessing.text.Tokenizer()\n",
    "\n",
    "# Updates internal vocabulary based on a list of texts.\n",
    "tokenizer.fit_on_texts(data_in_chunks)\n",
    "\n",
    "# Transforms each text in texts to a sequence of integers.\n",
    "sequences_train = tokenizer.texts_to_sequences(data_train)\n",
    "sequences_validate = tokenizer.texts_to_sequences(data_validate)"
   ]
  },
  {
   "cell_type": "code",
   "execution_count": 997,
   "metadata": {},
   "outputs": [
    {
     "name": "stdout",
     "output_type": "stream",
     "text": [
      "20000\n",
      "1883\n"
     ]
    }
   ],
   "source": [
    "print(len(sequences_train))\n",
    "print(len(sequences_validate))"
   ]
  },
  {
   "cell_type": "code",
   "execution_count": 998,
   "metadata": {},
   "outputs": [
    {
     "name": "stdout",
     "output_type": "stream",
     "text": [
      "[61, 79, 128, 3, 101]\n",
      "[72, 26, 46, 4, 13]\n"
     ]
    }
   ],
   "source": [
    "print(sequences_train[500])\n",
    "print(sequences_validate[500])"
   ]
  },
  {
   "cell_type": "code",
   "execution_count": 999,
   "metadata": {},
   "outputs": [],
   "source": [
    "#newlist = [expression for item in iterable if condition == True]\n",
    "lengths_v = [len(i) for i in sequences_validate]\n",
    "lengths_t = [len(i) for i in sequences_train]"
   ]
  },
  {
   "cell_type": "code",
   "execution_count": 1000,
   "metadata": {},
   "outputs": [
    {
     "name": "stdout",
     "output_type": "stream",
     "text": [
      "5\n",
      "2\n"
     ]
    }
   ],
   "source": [
    "print(min(lengths_t))\n",
    "print(min(lengths_v))"
   ]
  },
  {
   "cell_type": "code",
   "execution_count": 1001,
   "metadata": {},
   "outputs": [],
   "source": [
    "# trimmaa viimeinen vajaa rivi pois\n",
    "sequences_validate = sequences_validate[:len(sequences_validate)-1]"
   ]
  },
  {
   "cell_type": "code",
   "execution_count": 1002,
   "metadata": {},
   "outputs": [
    {
     "data": {
      "text/plain": [
       "[130, 52, 241, 14, 51]"
      ]
     },
     "execution_count": 1002,
     "metadata": {},
     "output_type": "execute_result"
    }
   ],
   "source": [
    "sequences_validate[len(sequences_validate)-1]"
   ]
  },
  {
   "cell_type": "code",
   "execution_count": 1003,
   "metadata": {
    "scrolled": true
   },
   "outputs": [
    {
     "data": {
      "text/plain": [
       "list"
      ]
     },
     "execution_count": 1003,
     "metadata": {},
     "output_type": "execute_result"
    }
   ],
   "source": [
    "type(sequences_train)"
   ]
  },
  {
   "cell_type": "code",
   "execution_count": 1004,
   "metadata": {},
   "outputs": [],
   "source": [
    "sequences_train = np.asarray(sequences_train)"
   ]
  },
  {
   "cell_type": "code",
   "execution_count": 1005,
   "metadata": {},
   "outputs": [],
   "source": [
    "sequences_validate = np.asarray(sequences_validate)"
   ]
  },
  {
   "cell_type": "code",
   "execution_count": 1006,
   "metadata": {},
   "outputs": [
    {
     "data": {
      "text/plain": [
       "346"
      ]
     },
     "execution_count": 1006,
     "metadata": {},
     "output_type": "execute_result"
    }
   ],
   "source": [
    "len(tokenizer.word_index)"
   ]
  },
  {
   "cell_type": "code",
   "execution_count": 1007,
   "metadata": {},
   "outputs": [
    {
     "data": {
      "text/plain": [
       "347"
      ]
     },
     "execution_count": 1007,
     "metadata": {},
     "output_type": "execute_result"
    }
   ],
   "source": [
    "# vocabulary size\n",
    "vocab_size = len(tokenizer.word_index) + 1\n",
    "vocab_size"
   ]
  },
  {
   "cell_type": "code",
   "execution_count": 1008,
   "metadata": {
    "scrolled": true
   },
   "outputs": [
    {
     "data": {
      "text/plain": [
       "(20000, 5)"
      ]
     },
     "execution_count": 1008,
     "metadata": {},
     "output_type": "execute_result"
    }
   ],
   "source": [
    "sequences_train.shape"
   ]
  },
  {
   "cell_type": "code",
   "execution_count": 1009,
   "metadata": {
    "scrolled": true
   },
   "outputs": [],
   "source": [
    "X_train, y_train = sequences_train[:,:-1], sequences_train[:,-1]"
   ]
  },
  {
   "cell_type": "code",
   "execution_count": 1010,
   "metadata": {},
   "outputs": [],
   "source": [
    "X_validate, y_validate = sequences_validate[:,:-1], sequences_validate[:,-1]"
   ]
  },
  {
   "cell_type": "code",
   "execution_count": 1011,
   "metadata": {},
   "outputs": [
    {
     "data": {
      "text/plain": [
       "array([[ 42,  50, 241, 208],\n",
       "       [145,  25,  12,  78],\n",
       "       [171,  38,  42,  52],\n",
       "       ...,\n",
       "       [ 31, 152,  26,   1],\n",
       "       [ 68,  45,  86,  56],\n",
       "       [ 22,  36,  63, 170]])"
      ]
     },
     "execution_count": 1011,
     "metadata": {},
     "output_type": "execute_result"
    }
   ],
   "source": [
    "X_train"
   ]
  },
  {
   "cell_type": "code",
   "execution_count": 1012,
   "metadata": {},
   "outputs": [
    {
     "data": {
      "text/plain": [
       "array([  1, 134,   6, ...,  18, 159, 107])"
      ]
     },
     "execution_count": 1012,
     "metadata": {},
     "output_type": "execute_result"
    }
   ],
   "source": [
    "y_train = np.asarray(y_train)\n",
    "y_train"
   ]
  },
  {
   "cell_type": "code",
   "execution_count": 1013,
   "metadata": {},
   "outputs": [],
   "source": [
    "y_train = tf.keras.utils.to_categorical(y_train, num_classes=vocab_size)"
   ]
  },
  {
   "cell_type": "code",
   "execution_count": 1014,
   "metadata": {},
   "outputs": [],
   "source": [
    "y_validate = tf.keras.utils.to_categorical(y_validate, num_classes=vocab_size)"
   ]
  },
  {
   "cell_type": "code",
   "execution_count": 1015,
   "metadata": {},
   "outputs": [
    {
     "data": {
      "text/plain": [
       "array([[0., 1., 0., ..., 0., 0., 0.],\n",
       "       [0., 0., 0., ..., 0., 0., 0.],\n",
       "       [0., 0., 0., ..., 0., 0., 0.],\n",
       "       ...,\n",
       "       [0., 0., 0., ..., 0., 0., 0.],\n",
       "       [0., 0., 0., ..., 0., 0., 0.],\n",
       "       [0., 0., 0., ..., 0., 0., 0.]], dtype=float32)"
      ]
     },
     "execution_count": 1015,
     "metadata": {},
     "output_type": "execute_result"
    }
   ],
   "source": [
    "y_train"
   ]
  },
  {
   "cell_type": "code",
   "execution_count": 1016,
   "metadata": {},
   "outputs": [
    {
     "data": {
      "text/plain": [
       "(20000, 347)"
      ]
     },
     "execution_count": 1016,
     "metadata": {},
     "output_type": "execute_result"
    }
   ],
   "source": [
    "y_train.shape"
   ]
  },
  {
   "cell_type": "code",
   "execution_count": 1017,
   "metadata": {},
   "outputs": [
    {
     "data": {
      "text/plain": [
       "(20000, 4)"
      ]
     },
     "execution_count": 1017,
     "metadata": {},
     "output_type": "execute_result"
    }
   ],
   "source": [
    "X_train.shape"
   ]
  },
  {
   "cell_type": "code",
   "execution_count": 1018,
   "metadata": {},
   "outputs": [
    {
     "data": {
      "text/plain": [
       "4"
      ]
     },
     "execution_count": 1018,
     "metadata": {},
     "output_type": "execute_result"
    }
   ],
   "source": [
    "seq_length = X_train.shape[1]\n",
    "seq_length"
   ]
  },
  {
   "cell_type": "markdown",
   "metadata": {},
   "source": [
    "### Define model"
   ]
  },
  {
   "cell_type": "code",
   "execution_count": 1019,
   "metadata": {},
   "outputs": [
    {
     "name": "stdout",
     "output_type": "stream",
     "text": [
      "Model: \"sequential_12\"\n",
      "_________________________________________________________________\n",
      "Layer (type)                 Output Shape              Param #   \n",
      "=================================================================\n",
      "embedding_12 (Embedding)     (None, 4, 4)              1388      \n",
      "_________________________________________________________________\n",
      "lstm_38 (LSTM)               (None, 4, 200)            164000    \n",
      "_________________________________________________________________\n",
      "lstm_39 (LSTM)               (None, 4, 300)            601200    \n",
      "_________________________________________________________________\n",
      "lstm_40 (LSTM)               (None, 200)               400800    \n",
      "_________________________________________________________________\n",
      "dense_24 (Dense)             (None, 120)               24120     \n",
      "_________________________________________________________________\n",
      "dense_25 (Dense)             (None, 347)               41987     \n",
      "=================================================================\n",
      "Total params: 1,233,495\n",
      "Trainable params: 1,233,495\n",
      "Non-trainable params: 0\n",
      "_________________________________________________________________\n",
      "None\n"
     ]
    }
   ],
   "source": [
    "model = tf.keras.Sequential()\n",
    "model.add(tf.keras.layers.Embedding(vocab_size, 4, input_length=seq_length))\n",
    "model.add(tf.keras.layers.LSTM(200, return_sequences=True))\n",
    "model.add(tf.keras.layers.LSTM(300, return_sequences=True))\n",
    "model.add(tf.keras.layers.LSTM(200))\n",
    "model.add(tf.keras.layers.Dense(120, activation='relu'))\n",
    "model.add(tf.keras.layers.Dense(vocab_size, activation='softmax'))\n",
    "print(model.summary())"
   ]
  },
  {
   "cell_type": "markdown",
   "metadata": {},
   "source": [
    "### Compile model"
   ]
  },
  {
   "cell_type": "code",
   "execution_count": 1020,
   "metadata": {},
   "outputs": [],
   "source": [
    "model.compile(loss='categorical_crossentropy', optimizer='adam', metrics=['accuracy'])"
   ]
  },
  {
   "cell_type": "markdown",
   "metadata": {},
   "source": [
    "### Fit model"
   ]
  },
  {
   "cell_type": "code",
   "execution_count": 1021,
   "metadata": {},
   "outputs": [
    {
     "name": "stdout",
     "output_type": "stream",
     "text": [
      "Epoch 1/20\n",
      "313/313 [==============================] - 17s 37ms/step - loss: 5.2478 - accuracy: 0.0206 - val_loss: 5.1333 - val_accuracy: 0.0213\n",
      "Epoch 2/20\n",
      "313/313 [==============================] - 10s 33ms/step - loss: 5.1522 - accuracy: 0.0269 - val_loss: 5.0862 - val_accuracy: 0.0255\n",
      "Epoch 3/20\n",
      "313/313 [==============================] - 12s 38ms/step - loss: 4.9870 - accuracy: 0.0434 - val_loss: 4.8054 - val_accuracy: 0.0574\n",
      "Epoch 4/20\n",
      "313/313 [==============================] - 12s 38ms/step - loss: 4.6652 - accuracy: 0.0771 - val_loss: 4.5146 - val_accuracy: 0.1015\n",
      "Epoch 5/20\n",
      "313/313 [==============================] - 12s 37ms/step - loss: 4.3996 - accuracy: 0.1107 - val_loss: 4.3346 - val_accuracy: 0.1302\n",
      "Epoch 6/20\n",
      "313/313 [==============================] - 12s 38ms/step - loss: 4.2211 - accuracy: 0.1326 - val_loss: 4.2150 - val_accuracy: 0.1530\n",
      "Epoch 7/20\n",
      "313/313 [==============================] - 12s 37ms/step - loss: 4.0987 - accuracy: 0.1470 - val_loss: 4.1825 - val_accuracy: 0.1562\n",
      "Epoch 8/20\n",
      "313/313 [==============================] - 12s 38ms/step - loss: 4.0037 - accuracy: 0.1586 - val_loss: 4.0907 - val_accuracy: 0.1791\n",
      "Epoch 9/20\n",
      "313/313 [==============================] - 12s 38ms/step - loss: 3.9055 - accuracy: 0.1720 - val_loss: 4.0362 - val_accuracy: 0.1748\n",
      "Epoch 10/20\n",
      "313/313 [==============================] - 12s 39ms/step - loss: 3.8005 - accuracy: 0.1858 - val_loss: 3.9988 - val_accuracy: 0.1892\n",
      "Epoch 11/20\n",
      "313/313 [==============================] - 12s 37ms/step - loss: 3.7015 - accuracy: 0.1975 - val_loss: 3.9459 - val_accuracy: 0.1987\n",
      "Epoch 12/20\n",
      "313/313 [==============================] - 12s 38ms/step - loss: 3.6001 - accuracy: 0.2162 - val_loss: 3.8836 - val_accuracy: 0.2109\n",
      "Epoch 13/20\n",
      "313/313 [==============================] - 12s 39ms/step - loss: 3.4939 - accuracy: 0.2351 - val_loss: 3.8453 - val_accuracy: 0.2290\n",
      "Epoch 14/20\n",
      "313/313 [==============================] - 12s 38ms/step - loss: 3.3995 - accuracy: 0.2501 - val_loss: 3.8375 - val_accuracy: 0.2264\n",
      "Epoch 15/20\n",
      "313/313 [==============================] - 12s 37ms/step - loss: 3.2942 - accuracy: 0.2664 - val_loss: 3.8081 - val_accuracy: 0.2418\n",
      "Epoch 16/20\n",
      "313/313 [==============================] - 12s 38ms/step - loss: 3.1950 - accuracy: 0.2785 - val_loss: 3.8350 - val_accuracy: 0.2455\n",
      "Epoch 17/20\n",
      "313/313 [==============================] - 12s 37ms/step - loss: 3.1007 - accuracy: 0.2950 - val_loss: 3.7984 - val_accuracy: 0.2630\n",
      "Epoch 18/20\n",
      "313/313 [==============================] - 12s 38ms/step - loss: 3.0131 - accuracy: 0.3117 - val_loss: 3.8389 - val_accuracy: 0.2593\n",
      "Epoch 19/20\n",
      "313/313 [==============================] - 12s 38ms/step - loss: 2.9201 - accuracy: 0.3236 - val_loss: 3.8301 - val_accuracy: 0.2694\n",
      "Epoch 20/20\n",
      "313/313 [==============================] - 12s 38ms/step - loss: 2.8244 - accuracy: 0.3397 - val_loss: 3.8782 - val_accuracy: 0.2667\n"
     ]
    },
    {
     "data": {
      "text/plain": [
       "<tensorflow.python.keras.callbacks.History at 0x23253ca81f0>"
      ]
     },
     "execution_count": 1021,
     "metadata": {},
     "output_type": "execute_result"
    }
   ],
   "source": [
    "model.fit(X_train,\n",
    "          y_train,\n",
    "          batch_size=64,\n",
    "          epochs=20,\n",
    "          validation_data=(X_validate, y_validate))"
   ]
  },
  {
   "cell_type": "code",
   "execution_count": 1022,
   "metadata": {},
   "outputs": [],
   "source": [
    "# save the model to file\n",
    "model.save('model17.h5')\n",
    "# save the tokenizer\n",
    "import pickle\n",
    "pickle.dump(tokenizer, open('tokenizer17.pkl', 'wb'))"
   ]
  },
  {
   "cell_type": "markdown",
   "metadata": {},
   "source": [
    "### Generate"
   ]
  },
  {
   "cell_type": "code",
   "execution_count": 1023,
   "metadata": {},
   "outputs": [
    {
     "name": "stdout",
     "output_type": "stream",
     "text": [
      "4\n"
     ]
    }
   ],
   "source": [
    "print(seq_length)"
   ]
  },
  {
   "cell_type": "markdown",
   "metadata": {},
   "source": [
    "### predictParts"
   ]
  },
  {
   "cell_type": "code",
   "execution_count": 1024,
   "metadata": {},
   "outputs": [],
   "source": [
    "def predictParts(input_word):\n",
    "    encoded_text = tokenizer.texts_to_sequences([input_word])[0]\n",
    "    #print(encoded_text)\n",
    "    yhat = model.predict(encoded_text, verbose=0)\n",
    "    yhat_max = np.max(yhat)\n",
    "    yhat_max_index = np.argmax(yhat)\n",
    "    out_word = ''\n",
    "    for word, index in tokenizer.word_index.items():\n",
    "        if index == yhat_max_index:\n",
    "            out_word = word\n",
    "            break\n",
    "    return (out_word, yhat_max)"
   ]
  },
  {
   "cell_type": "code",
   "execution_count": 1025,
   "metadata": {},
   "outputs": [
    {
     "name": "stdout",
     "output_type": "stream",
     "text": [
      "WARNING:tensorflow:Model was constructed with shape (None, 4) for input KerasTensor(type_spec=TensorSpec(shape=(None, 4), dtype=tf.float32, name='embedding_12_input'), name='embedding_12_input', description=\"created by layer 'embedding_12_input'\"), but it was called on an input with incompatible shape (None, 1).\n"
     ]
    },
    {
     "data": {
      "text/plain": [
       "('ka', 0.07604451)"
      ]
     },
     "execution_count": 1025,
     "metadata": {},
     "output_type": "execute_result"
    }
   ],
   "source": [
    "predictParts('pa')"
   ]
  },
  {
   "cell_type": "markdown",
   "metadata": {},
   "source": [
    "### predictManyParts"
   ]
  },
  {
   "cell_type": "code",
   "execution_count": 1026,
   "metadata": {},
   "outputs": [],
   "source": [
    "def predictManyParts(input,number=5):\n",
    "    predicted_word = ''\n",
    "    input_w = input\n",
    "    for i in range(number):\n",
    "        predicted = predictParts(input_w)[0]\n",
    "        #print(predicted)\n",
    "        predicted_word = predicted_word + predicted\n",
    "        input_w = predicted\n",
    "    return predicted_word"
   ]
  },
  {
   "cell_type": "code",
   "execution_count": 1027,
   "metadata": {},
   "outputs": [
    {
     "data": {
      "text/plain": [
       "'nekäitinuräknekäitin'"
      ]
     },
     "execution_count": 1027,
     "metadata": {},
     "output_type": "execute_result"
    }
   ],
   "source": [
    "predictManyParts('ik', number=10)"
   ]
  },
  {
   "cell_type": "markdown",
   "metadata": {},
   "source": [
    "### predictManyPartsWithProb"
   ]
  },
  {
   "cell_type": "code",
   "execution_count": 1028,
   "metadata": {},
   "outputs": [],
   "source": [
    "def predictManyPartsWithProb(input,number=5,min_prob=0.04):\n",
    "    predicted_word = ''\n",
    "    input_w = input\n",
    "    for i in range(number):\n",
    "        predicted = predictParts(input_w)\n",
    "        print(predicted)\n",
    "        if (predicted[1]>=min_prob):\n",
    "            predicted_word = predicted_word + predicted[0]\n",
    "            input_w = predicted[0]\n",
    "    return input + predicted_word"
   ]
  },
  {
   "cell_type": "code",
   "execution_count": 1029,
   "metadata": {},
   "outputs": [
    {
     "name": "stdout",
     "output_type": "stream",
     "text": [
      "('ne', 0.6175339)\n",
      "('kä', 0.029228244)\n",
      "('kä', 0.029228244)\n",
      "('kä', 0.029228244)\n",
      "('kä', 0.029228244)\n",
      "('kä', 0.029228244)\n",
      "('kä', 0.029228244)\n",
      "('kä', 0.029228244)\n",
      "('kä', 0.029228244)\n",
      "('kä', 0.029228244)\n"
     ]
    },
    {
     "data": {
      "text/plain": [
       "'ikne'"
      ]
     },
     "execution_count": 1029,
     "metadata": {},
     "output_type": "execute_result"
    }
   ],
   "source": [
    "predictManyPartsWithProb('ik',number=10, min_prob=0.09)"
   ]
  },
  {
   "cell_type": "markdown",
   "metadata": {},
   "source": [
    "### predictManyPartsWithProbNoRepeat"
   ]
  },
  {
   "cell_type": "code",
   "execution_count": 1030,
   "metadata": {},
   "outputs": [],
   "source": [
    "keys_list = list(tokenizer.word_index)"
   ]
  },
  {
   "cell_type": "code",
   "execution_count": 1031,
   "metadata": {},
   "outputs": [],
   "source": [
    "def predictManyPartsWithProbNoRepeat(input=None,number=5,min_prob=0.04):\n",
    "    if (input == None):\n",
    "        random_beg = np.random.randint(0,len(beginnings))\n",
    "        #print('random = ' + str(random))\n",
    "        input = beginnings[random_beg][1]\n",
    "        print(beginnings[random_beg])\n",
    "        \n",
    "    predicted_word = beginnings[random_beg][0] + beginnings[random_beg][1]\n",
    "    memory = ''\n",
    "    input_w = input\n",
    "    \n",
    "    for i in range(number):\n",
    "        \n",
    "        try:\n",
    "            predicted = predictParts(input_w)\n",
    "        except(KeyError) as e:\n",
    "            print(e)\n",
    "            break\n",
    "            \n",
    "        \n",
    "        if ((predicted[0] != input_w) & (predicted[0] != memory) ): # jos eri tulos\n",
    "            #print('1 predicted, input_w: ' + predicted[0] + input_w)\n",
    "            if (predicted[1]>=min_prob):\n",
    "                predicted_word = predicted_word + predicted[0]\n",
    "                memory = input_w\n",
    "                input_w = predicted[0]\n",
    "                \n",
    "            else:\n",
    "                predicted_word = predicted_word + '-'\n",
    "                memory = input_w\n",
    "                random = np.random.randint(0,len(tokenizer.word_index))\n",
    "                input_w = keys_list[random]\n",
    "        else:\n",
    "            #valitaan randomisti toinen tavu\n",
    "            random = np.random.randint(0,len(tokenizer.word_index))\n",
    "            memory = input_w\n",
    "            input_w = keys_list[random]\n",
    "            predicted_word = predicted_word + input_w\n",
    "    \n",
    "    print(predicted_word)        \n",
    "    return predicted_word"
   ]
  },
  {
   "cell_type": "code",
   "execution_count": 1032,
   "metadata": {},
   "outputs": [
    {
     "name": "stdout",
     "output_type": "stream",
     "text": [
      "('he', 'lm')\n",
      "helmkagmökne-kaänyitinuräkne-it\n",
      "('ka', 'kk')\n",
      "kakkäkne-oakaäine--käitinuräkne\n",
      "('ku', 'us')\n",
      "kuusamenkabiitinuräkne-kavihv-it\n",
      "('ja', 'uh')\n",
      "jauhkäitinuräkne-katarokatjikne-\n",
      "('ku', 'pa')\n",
      "kupakatvnikatminuräkne-äkne-oika\n",
      "('ka', 'lk')\n",
      "kalkkäitinuräkne-käitinuräkne-ni\n",
      "('ka', 'lk')\n",
      "kalkkäitinuräkne-kasjökne--itin\n",
      "('ki', 'rs')\n",
      "kirskäitinuräkne-ökne-oikattökne\n",
      "('mu', 'ru')\n",
      "murukatp-ayökne-kaivasuräkne-ka\n",
      "('su', 'ka')\n",
      "sukaayökne-nikane-käitinuräkne-\n",
      "('ho', 'pe')\n",
      "hope-kanpasuräkne--ökne-käitin\n",
      "('ke', 'ih')\n",
      "keihkäitinuräkne-kayyökne-käitin\n",
      "('mä', 'nt')\n",
      "mäntasuräkne-käitinuräkne-iäökne\n",
      "('ka', 'ng')\n",
      "kangkat--kaytenkaiyökne-itinur\n",
      "('ka', 'lv')\n",
      "kalvkäitinuräkne-takaariäökne-ka\n"
     ]
    }
   ],
   "source": [
    "for i in range(15):\n",
    "    predictManyPartsWithProbNoRepeat(number=15, min_prob=0.032)"
   ]
  },
  {
   "cell_type": "code",
   "execution_count": null,
   "metadata": {},
   "outputs": [],
   "source": []
  }
 ],
 "metadata": {
  "kernelspec": {
   "display_name": "Python (tensorflow 2.0)",
   "language": "python",
   "name": "py3-tf2.0"
  },
  "language_info": {
   "codemirror_mode": {
    "name": "ipython",
    "version": 3
   },
   "file_extension": ".py",
   "mimetype": "text/x-python",
   "name": "python",
   "nbconvert_exporter": "python",
   "pygments_lexer": "ipython3",
   "version": "3.8.10"
  }
 },
 "nbformat": 4,
 "nbformat_minor": 4
}
